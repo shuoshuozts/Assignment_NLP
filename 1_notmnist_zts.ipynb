{
 "cells": [
  {
   "cell_type": "markdown",
   "metadata": {
    "colab_type": "text",
    "id": "5hIbr52I7Z7U"
   },
   "source": [
    "First Step on Deep Learning Using Tensorflow\n",
    "=============\n",
    "\n",
    "\n",
    "各位同学们，我们在第九课上已经给大家介绍过了基础的深度学习知识。 这种最简单的网络是上一层网络全部链接到下一层网络，所以也称作 fully-connected（全连接） 网络。 \n",
    "\n",
    "在本次作业中，我们将使用经典数据集 mnist的升级版，notMNIST构建神经网络进行图像分类。 \n",
    "\n",
    "本次作业，你需要完成1, 2, 3三个练习。 能够掌握：\n",
    "\n",
    "1. 数据预处理的知识\n",
    "2. 深度学习程序的构建方式\n",
    "3. 训练集、测试集、验证集\n",
    "4. 神经网络的基础知识\n",
    "5. 图计算网络\n",
    "6. 正则化\n",
    "\n",
    "等非常重要的知识 \n",
    "\n",
    "Assignment 1\n",
    "------------\n",
    "\n",
    "The objective of this assignment is to learn about simple data curation practices, and familiarize you with some of the data we'll be reusing later.\n",
    "\n",
    "This notebook uses the [notMNIST](http://yaroslavvb.blogspot.com/2011/09/notmnist-dataset.html) dataset to be used with python experiments. This dataset is designed to look like the classic [MNIST](http://yann.lecun.com/exdb/mnist/) dataset, while looking a little more like real data: it's a harder task, and the data is a lot less 'clean' than MNIST."
   ]
  },
  {
   "cell_type": "code",
   "execution_count": 3,
   "metadata": {
    "cellView": "both",
    "colab": {
     "autoexec": {
      "startup": false,
      "wait_interval": 0
     }
    },
    "colab_type": "code",
    "id": "apJbCsBHl-2A"
   },
   "outputs": [],
   "source": [
    "# These are all the modules we'll be using later. Make sure you can import them\n",
    "# before proceeding further.\n",
    "from __future__ import print_function\n",
    "import imageio\n",
    "import matplotlib.pyplot as plt\n",
    "import numpy as np\n",
    "import os\n",
    "import sys\n",
    "import tarfile\n",
    "from IPython.display import display, Image\n",
    "from sklearn.linear_model import LogisticRegression\n",
    "from six.moves.urllib.request import urlretrieve\n",
    "from six.moves import cPickle as pickle\n",
    "\n",
    "# Config the matplotlib backend as plotting inline in IPython\n",
    "%matplotlib inline"
   ]
  },
  {
   "cell_type": "markdown",
   "metadata": {
    "colab_type": "text",
    "id": "jNWGtZaXn-5j"
   },
   "source": [
    "First, we'll download the dataset to our local machine. The data consists of characters rendered in a variety of fonts on a 28x28 image. The labels are limited to 'A' through 'J' (10 classes). The training set has about 500k and the testset 19000 labeled examples. Given these sizes, it should be possible to train models quickly on any machine."
   ]
  },
  {
   "cell_type": "code",
   "execution_count": 4,
   "metadata": {
    "cellView": "both",
    "colab": {
     "autoexec": {
      "startup": false,
      "wait_interval": 0
     },
     "output_extras": [
      {
       "item_id": 1
      }
     ]
    },
    "colab_type": "code",
    "executionInfo": {
     "elapsed": 186058,
     "status": "ok",
     "timestamp": 1444485672507,
     "user": {
      "color": "#1FA15D",
      "displayName": "Vincent Vanhoucke",
      "isAnonymous": false,
      "isMe": true,
      "permissionId": "05076109866853157986",
      "photoUrl": "//lh6.googleusercontent.com/-cCJa7dTDcgQ/AAAAAAAAAAI/AAAAAAAACgw/r2EZ_8oYer4/s50-c-k-no/photo.jpg",
      "sessionId": "2a0a5e044bb03b66",
      "userId": "102167687554210253930"
     },
     "user_tz": 420
    },
    "id": "EYRJ4ICW6-da",
    "outputId": "0d0f85df-155f-4a89-8e7e-ee32df36ec8d"
   },
   "outputs": [
    {
     "name": "stdout",
     "output_type": "stream",
     "text": [
      "Found and verified /Users/zhangtingshuo/Desktop/AI课程/人工智能与自然语言处理-Part9/data/notMNIST_large.tar.gz\n",
      "Found and verified /Users/zhangtingshuo/Desktop/AI课程/人工智能与自然语言处理-Part9/data/notMNIST_small.tar.gz\n"
     ]
    }
   ],
   "source": [
    "url = 'https://commondatastorage.googleapis.com/books1000/'\n",
    "last_percent_reported = None\n",
    "data_root = '/Users/zhangtingshuo/Desktop/AI课程/人工智能与自然语言处理-Part9/data' # Change me to store data elsewhere\n",
    "\n",
    "def download_progress_hook(count, blockSize, totalSize):\n",
    "  \"\"\"A hook to report the progress of a download. This is mostly intended for users with\n",
    "  slow internet connections. Reports every 5% change in download progress.\n",
    "  \"\"\"\n",
    "  global last_percent_reported\n",
    "  percent = int(count * blockSize * 100 / totalSize)\n",
    "\n",
    "  if last_percent_reported != percent:\n",
    "    if percent % 5 == 0:\n",
    "      sys.stdout.write(\"%s%%\" % percent)\n",
    "      sys.stdout.flush()\n",
    "    else:\n",
    "      sys.stdout.write(\".\")\n",
    "      sys.stdout.flush()\n",
    "      \n",
    "    last_percent_reported = percent\n",
    "        \n",
    "def maybe_download(filename, expected_bytes, force=False):\n",
    "  \"\"\"Download a file if not present, and make sure it's the right size.\"\"\"\n",
    "  dest_filename = os.path.join(data_root, filename)\n",
    "  if force or not os.path.exists(dest_filename):\n",
    "    print('Attempting to download:', filename) \n",
    "    filename, _ = urlretrieve(url + filename, dest_filename, reporthook=download_progress_hook)\n",
    "    print('\\nDownload Complete!')\n",
    "  statinfo = os.stat(dest_filename)\n",
    "  if statinfo.st_size == expected_bytes:\n",
    "    print('Found and verified', dest_filename)\n",
    "  else:\n",
    "    raise Exception(\n",
    "      'Failed to verify ' + dest_filename + '. Can you get to it with a browser?')\n",
    "  return dest_filename\n",
    "\n",
    "train_filename = maybe_download('notMNIST_large.tar.gz', 247336696)\n",
    "test_filename = maybe_download('notMNIST_small.tar.gz', 8458043)"
   ]
  },
  {
   "cell_type": "markdown",
   "metadata": {
    "colab_type": "text",
    "id": "cC3p0oEyF8QT"
   },
   "source": [
    "Extract the dataset from the compressed .tar.gz file.\n",
    "This should give you a set of directories, labeled A through J."
   ]
  },
  {
   "cell_type": "code",
   "execution_count": 5,
   "metadata": {
    "cellView": "both",
    "colab": {
     "autoexec": {
      "startup": false,
      "wait_interval": 0
     },
     "output_extras": [
      {
       "item_id": 1
      }
     ]
    },
    "colab_type": "code",
    "executionInfo": {
     "elapsed": 186055,
     "status": "ok",
     "timestamp": 1444485672525,
     "user": {
      "color": "#1FA15D",
      "displayName": "Vincent Vanhoucke",
      "isAnonymous": false,
      "isMe": true,
      "permissionId": "05076109866853157986",
      "photoUrl": "//lh6.googleusercontent.com/-cCJa7dTDcgQ/AAAAAAAAAAI/AAAAAAAACgw/r2EZ_8oYer4/s50-c-k-no/photo.jpg",
      "sessionId": "2a0a5e044bb03b66",
      "userId": "102167687554210253930"
     },
     "user_tz": 420
    },
    "id": "H8CBE-WZ8nmj",
    "outputId": "ef6c790c-2513-4b09-962e-27c79390c762"
   },
   "outputs": [
    {
     "name": "stdout",
     "output_type": "stream",
     "text": [
      "/Users/zhangtingshuo/Desktop/AI课程/人工智能与自然语言处理-Part9/data/notMNIST_large already present - Skipping extraction of /Users/zhangtingshuo/Desktop/AI课程/人工智能与自然语言处理-Part9/data/notMNIST_large.tar.gz.\n",
      "['/Users/zhangtingshuo/Desktop/AI课程/人工智能与自然语言处理-Part9/data/notMNIST_large/A', '/Users/zhangtingshuo/Desktop/AI课程/人工智能与自然语言处理-Part9/data/notMNIST_large/B', '/Users/zhangtingshuo/Desktop/AI课程/人工智能与自然语言处理-Part9/data/notMNIST_large/C', '/Users/zhangtingshuo/Desktop/AI课程/人工智能与自然语言处理-Part9/data/notMNIST_large/D', '/Users/zhangtingshuo/Desktop/AI课程/人工智能与自然语言处理-Part9/data/notMNIST_large/E', '/Users/zhangtingshuo/Desktop/AI课程/人工智能与自然语言处理-Part9/data/notMNIST_large/F', '/Users/zhangtingshuo/Desktop/AI课程/人工智能与自然语言处理-Part9/data/notMNIST_large/G', '/Users/zhangtingshuo/Desktop/AI课程/人工智能与自然语言处理-Part9/data/notMNIST_large/H', '/Users/zhangtingshuo/Desktop/AI课程/人工智能与自然语言处理-Part9/data/notMNIST_large/I', '/Users/zhangtingshuo/Desktop/AI课程/人工智能与自然语言处理-Part9/data/notMNIST_large/J']\n",
      "/Users/zhangtingshuo/Desktop/AI课程/人工智能与自然语言处理-Part9/data/notMNIST_small already present - Skipping extraction of /Users/zhangtingshuo/Desktop/AI课程/人工智能与自然语言处理-Part9/data/notMNIST_small.tar.gz.\n",
      "['/Users/zhangtingshuo/Desktop/AI课程/人工智能与自然语言处理-Part9/data/notMNIST_small/A', '/Users/zhangtingshuo/Desktop/AI课程/人工智能与自然语言处理-Part9/data/notMNIST_small/B', '/Users/zhangtingshuo/Desktop/AI课程/人工智能与自然语言处理-Part9/data/notMNIST_small/C', '/Users/zhangtingshuo/Desktop/AI课程/人工智能与自然语言处理-Part9/data/notMNIST_small/D', '/Users/zhangtingshuo/Desktop/AI课程/人工智能与自然语言处理-Part9/data/notMNIST_small/E', '/Users/zhangtingshuo/Desktop/AI课程/人工智能与自然语言处理-Part9/data/notMNIST_small/F', '/Users/zhangtingshuo/Desktop/AI课程/人工智能与自然语言处理-Part9/data/notMNIST_small/G', '/Users/zhangtingshuo/Desktop/AI课程/人工智能与自然语言处理-Part9/data/notMNIST_small/H', '/Users/zhangtingshuo/Desktop/AI课程/人工智能与自然语言处理-Part9/data/notMNIST_small/I', '/Users/zhangtingshuo/Desktop/AI课程/人工智能与自然语言处理-Part9/data/notMNIST_small/J']\n"
     ]
    }
   ],
   "source": [
    "num_classes = 10\n",
    "np.random.seed(133)\n",
    "\n",
    "def maybe_extract(filename, force=False):\n",
    "  root = os.path.splitext(os.path.splitext(filename)[0])[0]  # remove .tar.gz\n",
    "  if os.path.isdir(root) and not force:\n",
    "    # You may override by setting force=True.\n",
    "    print('%s already present - Skipping extraction of %s.' % (root, filename))\n",
    "  else:\n",
    "    print('Extracting data for %s. This may take a while. Please wait.' % root)\n",
    "    tar = tarfile.open(filename)\n",
    "    sys.stdout.flush()\n",
    "    tar.extractall(data_root)\n",
    "    tar.close()\n",
    "  data_folders = [\n",
    "    os.path.join(root, d) for d in sorted(os.listdir(root))\n",
    "    if os.path.isdir(os.path.join(root, d))]\n",
    "  if len(data_folders) != num_classes:\n",
    "    raise Exception(\n",
    "      'Expected %d folders, one per class. Found %d instead.' % (\n",
    "        num_classes, len(data_folders)))\n",
    "  print(data_folders)\n",
    "  return data_folders\n",
    "  \n",
    "train_folders = maybe_extract(train_filename)\n",
    "test_folders = maybe_extract(test_filename)"
   ]
  },
  {
   "cell_type": "markdown",
   "metadata": {
    "colab_type": "text",
    "id": "4riXK3IoHgx6"
   },
   "source": [
    "---\n",
    "Problem 1\n",
    "---------\n",
    "\n",
    "Let's take a peek at some of the data to make sure it looks sensible. Each exemplar should be an image of a character A through J rendered in a different font. Display a sample of the images that we just downloaded. Hint: you can use the package IPython.display.\n",
    "\n",
    "---"
   ]
  },
  {
   "cell_type": "code",
   "execution_count": 6,
   "metadata": {},
   "outputs": [
    {
     "data": {
      "image/png": "[encoded data removed]",
      "text/plain": [
       "<IPython.core.display.Image object>"
      ]
     },
     "metadata": {},
     "output_type": "display_data"
    }
   ],
   "source": [
    "test = Image('/Users/zhangtingshuo/Desktop/AI课程/人工智能与自然语言处理-Part9/data/notMNIST_large/E/a2l0Y2hlbiB0aWxlLnR0Zg==.png')\n",
    "display(test)"
   ]
  },
  {
   "cell_type": "code",
   "execution_count": 7,
   "metadata": {},
   "outputs": [
    {
     "data": {
      "image/png": "[encoded data removed]",
      "text/plain": [
       "<IPython.core.display.Image object>"
      ]
     },
     "metadata": {},
     "output_type": "display_data"
    }
   ],
   "source": [
    "test_2 = Image('/Users/zhangtingshuo/Desktop/AI课程/人工智能与自然语言处理-Part9/data/notMNIST_large/E/MTAxISBEZWNvIFR5cGUgMS50dGY=.png')\n",
    "display(test_2)"
   ]
  },
  {
   "cell_type": "code",
   "execution_count": 8,
   "metadata": {},
   "outputs": [
    {
     "data": {
      "image/png": "[encoded data removed]",
      "text/plain": [
       "<IPython.core.display.Image object>"
      ]
     },
     "metadata": {},
     "output_type": "display_data"
    }
   ],
   "source": [
    "test_3 = Image('/Users/zhangtingshuo/Desktop/AI课程/人工智能与自然语言处理-Part9/data/notMNIST_small/B/MTggSG9sZXMgQlJLLnR0Zg==.png')\n",
    "display(test_3)"
   ]
  },
  {
   "cell_type": "markdown",
   "metadata": {
    "colab_type": "text",
    "id": "PBdkjESPK8tw"
   },
   "source": [
    "Now let's load the data in a more manageable format. Since, depending on your computer setup you might not be able to fit it all in memory, we'll load each class into a separate dataset, store them on disk and curate them independently. Later we'll merge them into a single dataset of manageable size.\n",
    "\n",
    "We'll convert the entire dataset into a 3D array (image index, x, y) of floating point values, normalized to have approximately zero mean and standard deviation ~0.5 to make training easier down the road. \n",
    "\n",
    "A few images might not be readable, we'll just skip them."
   ]
  },
  {
   "cell_type": "code",
   "execution_count": 9,
   "metadata": {
    "cellView": "both",
    "colab": {
     "autoexec": {
      "startup": false,
      "wait_interval": 0
     },
     "output_extras": [
      {
       "item_id": 30
      }
     ]
    },
    "colab_type": "code",
    "executionInfo": {
     "elapsed": 399874,
     "status": "ok",
     "timestamp": 1444485886378,
     "user": {
      "color": "#1FA15D",
      "displayName": "Vincent Vanhoucke",
      "isAnonymous": false,
      "isMe": true,
      "permissionId": "05076109866853157986",
      "photoUrl": "//lh6.googleusercontent.com/-cCJa7dTDcgQ/AAAAAAAAAAI/AAAAAAAACgw/r2EZ_8oYer4/s50-c-k-no/photo.jpg",
      "sessionId": "2a0a5e044bb03b66",
      "userId": "102167687554210253930"
     },
     "user_tz": 420
    },
    "id": "h7q0XhG3MJdf",
    "outputId": "92c391bb-86ff-431d-9ada-315568a19e59"
   },
   "outputs": [
    {
     "name": "stdout",
     "output_type": "stream",
     "text": [
      "/Users/zhangtingshuo/Desktop/AI课程/人工智能与自然语言处理-Part9/data/notMNIST_large/A.pickle already present - Skipping pickling.\n",
      "/Users/zhangtingshuo/Desktop/AI课程/人工智能与自然语言处理-Part9/data/notMNIST_large/B.pickle already present - Skipping pickling.\n",
      "/Users/zhangtingshuo/Desktop/AI课程/人工智能与自然语言处理-Part9/data/notMNIST_large/C.pickle already present - Skipping pickling.\n",
      "/Users/zhangtingshuo/Desktop/AI课程/人工智能与自然语言处理-Part9/data/notMNIST_large/D.pickle already present - Skipping pickling.\n",
      "/Users/zhangtingshuo/Desktop/AI课程/人工智能与自然语言处理-Part9/data/notMNIST_large/E.pickle already present - Skipping pickling.\n",
      "/Users/zhangtingshuo/Desktop/AI课程/人工智能与自然语言处理-Part9/data/notMNIST_large/F.pickle already present - Skipping pickling.\n",
      "/Users/zhangtingshuo/Desktop/AI课程/人工智能与自然语言处理-Part9/data/notMNIST_large/G.pickle already present - Skipping pickling.\n",
      "/Users/zhangtingshuo/Desktop/AI课程/人工智能与自然语言处理-Part9/data/notMNIST_large/H.pickle already present - Skipping pickling.\n",
      "/Users/zhangtingshuo/Desktop/AI课程/人工智能与自然语言处理-Part9/data/notMNIST_large/I.pickle already present - Skipping pickling.\n",
      "/Users/zhangtingshuo/Desktop/AI课程/人工智能与自然语言处理-Part9/data/notMNIST_large/J.pickle already present - Skipping pickling.\n",
      "/Users/zhangtingshuo/Desktop/AI课程/人工智能与自然语言处理-Part9/data/notMNIST_small/A.pickle already present - Skipping pickling.\n",
      "/Users/zhangtingshuo/Desktop/AI课程/人工智能与自然语言处理-Part9/data/notMNIST_small/B.pickle already present - Skipping pickling.\n",
      "/Users/zhangtingshuo/Desktop/AI课程/人工智能与自然语言处理-Part9/data/notMNIST_small/C.pickle already present - Skipping pickling.\n",
      "/Users/zhangtingshuo/Desktop/AI课程/人工智能与自然语言处理-Part9/data/notMNIST_small/D.pickle already present - Skipping pickling.\n",
      "/Users/zhangtingshuo/Desktop/AI课程/人工智能与自然语言处理-Part9/data/notMNIST_small/E.pickle already present - Skipping pickling.\n",
      "/Users/zhangtingshuo/Desktop/AI课程/人工智能与自然语言处理-Part9/data/notMNIST_small/F.pickle already present - Skipping pickling.\n",
      "/Users/zhangtingshuo/Desktop/AI课程/人工智能与自然语言处理-Part9/data/notMNIST_small/G.pickle already present - Skipping pickling.\n",
      "/Users/zhangtingshuo/Desktop/AI课程/人工智能与自然语言处理-Part9/data/notMNIST_small/H.pickle already present - Skipping pickling.\n",
      "/Users/zhangtingshuo/Desktop/AI课程/人工智能与自然语言处理-Part9/data/notMNIST_small/I.pickle already present - Skipping pickling.\n",
      "/Users/zhangtingshuo/Desktop/AI课程/人工智能与自然语言处理-Part9/data/notMNIST_small/J.pickle already present - Skipping pickling.\n"
     ]
    }
   ],
   "source": [
    "image_size = 28  # Pixel width and height.\n",
    "pixel_depth = 255.0  # Number of levels per pixel.\n",
    "\n",
    "def load_letter(folder, min_num_images):\n",
    "  \"\"\"Load the data for a single letter label.\"\"\"\n",
    "  image_files = os.listdir(folder)\n",
    "  dataset = np.ndarray(shape=(len(image_files), image_size, image_size),\n",
    "                         dtype=np.float32)\n",
    "  print(folder)\n",
    "  num_images = 0\n",
    "  for image in image_files:\n",
    "    image_file = os.path.join(folder, image)\n",
    "    try:\n",
    "      image_data = (imageio.imread(image_file).astype(float) - \n",
    "                    pixel_depth / 2) / pixel_depth\n",
    "      if image_data.shape != (image_size, image_size):\n",
    "        raise Exception('Unexpected image shape: %s' % str(image_data.shape))\n",
    "      dataset[num_images, :, :] = image_data\n",
    "      num_images = num_images + 1\n",
    "    except (IOError, ValueError) as e:\n",
    "      print('Could not read:', image_file, ':', e, '- it\\'s ok, skipping.')\n",
    "    \n",
    "  dataset = dataset[0:num_images, :, :]\n",
    "  if num_images < min_num_images:\n",
    "    raise Exception('Many fewer images than expected: %d < %d' %\n",
    "                    (num_images, min_num_images))\n",
    "    \n",
    "  print('Full dataset tensor:', dataset.shape)\n",
    "  print('Mean:', np.mean(dataset))\n",
    "  print('Standard deviation:', np.std(dataset))\n",
    "  return dataset\n",
    "        \n",
    "def maybe_pickle(data_folders, min_num_images_per_class, force=False):\n",
    "  dataset_names = []\n",
    "  for folder in data_folders:\n",
    "    set_filename = folder + '.pickle'\n",
    "    dataset_names.append(set_filename)\n",
    "    if os.path.exists(set_filename) and not force:\n",
    "      # You may override by setting force=True.\n",
    "      print('%s already present - Skipping pickling.' % set_filename)\n",
    "    else:\n",
    "      print('Pickling %s.' % set_filename)\n",
    "      dataset = load_letter(folder, min_num_images_per_class)\n",
    "      try:\n",
    "        with open(set_filename, 'wb') as f:\n",
    "          pickle.dump(dataset, f, pickle.HIGHEST_PROTOCOL)\n",
    "      except Exception as e:\n",
    "        print('Unable to save data to', set_filename, ':', e)\n",
    "  \n",
    "  return dataset_names\n",
    "\n",
    "train_datasets = maybe_pickle(train_folders, 45000)\n",
    "test_datasets = maybe_pickle(test_folders, 1800)"
   ]
  },
  {
   "cell_type": "markdown",
   "metadata": {
    "colab_type": "text",
    "id": "vUdbskYE2d87"
   },
   "source": [
    "---\n",
    "Problem 2\n",
    "---------\n",
    "\n",
    "Let's verify that the data still looks good. Displaying a sample of the labels and images from the ndarray. Hint: you can use matplotlib.pyplot.\n",
    "\n",
    "---"
   ]
  },
  {
   "cell_type": "code",
   "execution_count": 10,
   "metadata": {},
   "outputs": [
    {
     "data": {
      "text/plain": [
       "['/Users/zhangtingshuo/Desktop/AI课程/人工智能与自然语言处理-Part9/data/notMNIST_large/A.pickle',\n",
       " '/Users/zhangtingshuo/Desktop/AI课程/人工智能与自然语言处理-Part9/data/notMNIST_large/B.pickle',\n",
       " '/Users/zhangtingshuo/Desktop/AI课程/人工智能与自然语言处理-Part9/data/notMNIST_large/C.pickle',\n",
       " '/Users/zhangtingshuo/Desktop/AI课程/人工智能与自然语言处理-Part9/data/notMNIST_large/D.pickle',\n",
       " '/Users/zhangtingshuo/Desktop/AI课程/人工智能与自然语言处理-Part9/data/notMNIST_large/E.pickle',\n",
       " '/Users/zhangtingshuo/Desktop/AI课程/人工智能与自然语言处理-Part9/data/notMNIST_large/F.pickle',\n",
       " '/Users/zhangtingshuo/Desktop/AI课程/人工智能与自然语言处理-Part9/data/notMNIST_large/G.pickle',\n",
       " '/Users/zhangtingshuo/Desktop/AI课程/人工智能与自然语言处理-Part9/data/notMNIST_large/H.pickle',\n",
       " '/Users/zhangtingshuo/Desktop/AI课程/人工智能与自然语言处理-Part9/data/notMNIST_large/I.pickle',\n",
       " '/Users/zhangtingshuo/Desktop/AI课程/人工智能与自然语言处理-Part9/data/notMNIST_large/J.pickle']"
      ]
     },
     "execution_count": 10,
     "metadata": {},
     "output_type": "execute_result"
    }
   ],
   "source": [
    "train_datasets"
   ]
  },
  {
   "cell_type": "code",
   "execution_count": 11,
   "metadata": {},
   "outputs": [
    {
     "data": {
      "text/plain": [
       "(52911, 28, 28)"
      ]
     },
     "execution_count": 11,
     "metadata": {},
     "output_type": "execute_result"
    }
   ],
   "source": [
    "file = open(train_datasets[1], 'rb')\n",
    "train_B = pickle.load(file)\n",
    "train_B.shape"
   ]
  },
  {
   "cell_type": "code",
   "execution_count": 12,
   "metadata": {},
   "outputs": [
    {
     "data": {
      "text/plain": [
       "<matplotlib.image.AxesImage at 0x1a1b5cd4a8>"
      ]
     },
     "execution_count": 12,
     "metadata": {},
     "output_type": "execute_result"
    },
    {
     "data": {
      "image/png": "[encoded data removed]",
      "text/plain": [
       "<Figure size 432x288 with 1 Axes>"
      ]
     },
     "metadata": {
      "needs_background": "light"
     },
     "output_type": "display_data"
    }
   ],
   "source": [
    "plt.imshow(train_B[789, :, :])"
   ]
  },
  {
   "cell_type": "markdown",
   "metadata": {
    "colab_type": "text",
    "id": "cYznx5jUwzoO"
   },
   "source": [
    "---\n",
    "Problem 3\n",
    "---------\n",
    "Another check: we expect the data to be balanced across classes. Verify that.\n",
    "\n",
    "---"
   ]
  },
  {
   "cell_type": "markdown",
   "metadata": {},
   "source": [
    "#### Check the number of images in training datasets"
   ]
  },
  {
   "cell_type": "code",
   "execution_count": 13,
   "metadata": {},
   "outputs": [
    {
     "name": "stdout",
     "output_type": "stream",
     "text": [
      "/Users/zhangtingshuo/Desktop/AI课程/人工智能与自然语言处理-Part9/data/notMNIST_large/A.picklesize: 52909\n",
      "/Users/zhangtingshuo/Desktop/AI课程/人工智能与自然语言处理-Part9/data/notMNIST_large/B.picklesize: 52911\n",
      "/Users/zhangtingshuo/Desktop/AI课程/人工智能与自然语言处理-Part9/data/notMNIST_large/C.picklesize: 52912\n",
      "/Users/zhangtingshuo/Desktop/AI课程/人工智能与自然语言处理-Part9/data/notMNIST_large/D.picklesize: 52911\n",
      "/Users/zhangtingshuo/Desktop/AI课程/人工智能与自然语言处理-Part9/data/notMNIST_large/E.picklesize: 52912\n",
      "/Users/zhangtingshuo/Desktop/AI课程/人工智能与自然语言处理-Part9/data/notMNIST_large/F.picklesize: 52912\n",
      "/Users/zhangtingshuo/Desktop/AI课程/人工智能与自然语言处理-Part9/data/notMNIST_large/G.picklesize: 52912\n",
      "/Users/zhangtingshuo/Desktop/AI课程/人工智能与自然语言处理-Part9/data/notMNIST_large/H.picklesize: 52912\n",
      "/Users/zhangtingshuo/Desktop/AI课程/人工智能与自然语言处理-Part9/data/notMNIST_large/I.picklesize: 52912\n",
      "/Users/zhangtingshuo/Desktop/AI课程/人工智能与自然语言处理-Part9/data/notMNIST_large/J.picklesize: 52911\n"
     ]
    }
   ],
   "source": [
    "for letters in train_datasets:\n",
    "    file_name = open(letters, 'rb')\n",
    "    dataset = pickle.load(file_name)\n",
    "    print(letters + 'size: ' + str(dataset.shape[0]))"
   ]
  },
  {
   "cell_type": "markdown",
   "metadata": {},
   "source": [
    "#### Check the number of images in testing datasets"
   ]
  },
  {
   "cell_type": "code",
   "execution_count": 14,
   "metadata": {},
   "outputs": [
    {
     "name": "stdout",
     "output_type": "stream",
     "text": [
      "/Users/zhangtingshuo/Desktop/AI课程/人工智能与自然语言处理-Part9/data/notMNIST_small/A.picklesize: 1872\n",
      "/Users/zhangtingshuo/Desktop/AI课程/人工智能与自然语言处理-Part9/data/notMNIST_small/B.picklesize: 1873\n",
      "/Users/zhangtingshuo/Desktop/AI课程/人工智能与自然语言处理-Part9/data/notMNIST_small/C.picklesize: 1873\n",
      "/Users/zhangtingshuo/Desktop/AI课程/人工智能与自然语言处理-Part9/data/notMNIST_small/D.picklesize: 1873\n",
      "/Users/zhangtingshuo/Desktop/AI课程/人工智能与自然语言处理-Part9/data/notMNIST_small/E.picklesize: 1873\n",
      "/Users/zhangtingshuo/Desktop/AI课程/人工智能与自然语言处理-Part9/data/notMNIST_small/F.picklesize: 1872\n",
      "/Users/zhangtingshuo/Desktop/AI课程/人工智能与自然语言处理-Part9/data/notMNIST_small/G.picklesize: 1872\n",
      "/Users/zhangtingshuo/Desktop/AI课程/人工智能与自然语言处理-Part9/data/notMNIST_small/H.picklesize: 1872\n",
      "/Users/zhangtingshuo/Desktop/AI课程/人工智能与自然语言处理-Part9/data/notMNIST_small/I.picklesize: 1872\n",
      "/Users/zhangtingshuo/Desktop/AI课程/人工智能与自然语言处理-Part9/data/notMNIST_small/J.picklesize: 1872\n"
     ]
    }
   ],
   "source": [
    "for letters in test_datasets:\n",
    "    file_name = open(letters, 'rb')\n",
    "    dataset = pickle.load(file_name)\n",
    "    print(letters + 'size: ' + str(dataset.shape[0]))"
   ]
  },
  {
   "cell_type": "markdown",
   "metadata": {
    "colab_type": "text",
    "id": "LA7M7K22ynCt"
   },
   "source": [
    "Merge and prune the training data as needed. Depending on your computer setup, you might not be able to fit it all in memory, and you can tune `train_size` as needed. The labels will be stored into a separate array of integers 0 through 9.\n",
    "\n",
    "Also create a validation dataset for hyperparameter tuning."
   ]
  },
  {
   "cell_type": "code",
   "execution_count": 15,
   "metadata": {
    "cellView": "both",
    "colab": {
     "autoexec": {
      "startup": false,
      "wait_interval": 0
     },
     "output_extras": [
      {
       "item_id": 1
      }
     ]
    },
    "colab_type": "code",
    "executionInfo": {
     "elapsed": 411281,
     "status": "ok",
     "timestamp": 1444485897869,
     "user": {
      "color": "#1FA15D",
      "displayName": "Vincent Vanhoucke",
      "isAnonymous": false,
      "isMe": true,
      "permissionId": "05076109866853157986",
      "photoUrl": "//lh6.googleusercontent.com/-cCJa7dTDcgQ/AAAAAAAAAAI/AAAAAAAACgw/r2EZ_8oYer4/s50-c-k-no/photo.jpg",
      "sessionId": "2a0a5e044bb03b66",
      "userId": "102167687554210253930"
     },
     "user_tz": 420
    },
    "id": "s3mWgZLpyuzq",
    "outputId": "8af66da6-902d-4719-bedc-7c9fb7ae7948"
   },
   "outputs": [
    {
     "name": "stdout",
     "output_type": "stream",
     "text": [
      "Training: (200000, 28, 28) (200000,)\n",
      "Validation: (10000, 28, 28) (10000,)\n",
      "Testing: (10000, 28, 28) (10000,)\n"
     ]
    }
   ],
   "source": [
    "def make_arrays(nb_rows, img_size):\n",
    "  if nb_rows:\n",
    "    dataset = np.ndarray((nb_rows, img_size, img_size), dtype=np.float32)\n",
    "    labels = np.ndarray(nb_rows, dtype=np.int32)\n",
    "  else:\n",
    "    dataset, labels = None, None\n",
    "  return dataset, labels\n",
    "\n",
    "def merge_datasets(pickle_files, train_size, valid_size=0):\n",
    "  num_classes = len(pickle_files)\n",
    "  valid_dataset, valid_labels = make_arrays(valid_size, image_size)\n",
    "  train_dataset, train_labels = make_arrays(train_size, image_size)\n",
    "  vsize_per_class = valid_size // num_classes\n",
    "  tsize_per_class = train_size // num_classes\n",
    "    \n",
    "  start_v, start_t = 0, 0\n",
    "  end_v, end_t = vsize_per_class, tsize_per_class\n",
    "  end_l = vsize_per_class+tsize_per_class\n",
    "  for label, pickle_file in enumerate(pickle_files):       \n",
    "    try:\n",
    "      with open(pickle_file, 'rb') as f:\n",
    "        letter_set = pickle.load(f)\n",
    "        # let's shuffle the letters to have random validation and training set\n",
    "        np.random.shuffle(letter_set)\n",
    "        if valid_dataset is not None:\n",
    "          valid_letter = letter_set[:vsize_per_class, :, :]\n",
    "          valid_dataset[start_v:end_v, :, :] = valid_letter\n",
    "          valid_labels[start_v:end_v] = label\n",
    "          start_v += vsize_per_class\n",
    "          end_v += vsize_per_class\n",
    "                    \n",
    "        train_letter = letter_set[vsize_per_class:end_l, :, :]\n",
    "        train_dataset[start_t:end_t, :, :] = train_letter\n",
    "        train_labels[start_t:end_t] = label\n",
    "        start_t += tsize_per_class\n",
    "        end_t += tsize_per_class\n",
    "    except Exception as e:\n",
    "      print('Unable to process data from', pickle_file, ':', e)\n",
    "      raise\n",
    "    \n",
    "  return valid_dataset, valid_labels, train_dataset, train_labels\n",
    "            \n",
    "            \n",
    "train_size = 200000\n",
    "valid_size = 10000\n",
    "test_size = 10000\n",
    "\n",
    "valid_dataset, valid_labels, train_dataset, train_labels = merge_datasets(\n",
    "  train_datasets, train_size, valid_size)\n",
    "_, _, test_dataset, test_labels = merge_datasets(test_datasets, test_size)\n",
    "\n",
    "print('Training:', train_dataset.shape, train_labels.shape)\n",
    "print('Validation:', valid_dataset.shape, valid_labels.shape)\n",
    "print('Testing:', test_dataset.shape, test_labels.shape)"
   ]
  },
  {
   "cell_type": "markdown",
   "metadata": {
    "colab_type": "text",
    "id": "GPTCnjIcyuKN"
   },
   "source": [
    "Next, we'll randomize the data. It's important to have the labels well shuffled for the training and test distributions to match."
   ]
  },
  {
   "cell_type": "code",
   "execution_count": 16,
   "metadata": {
    "cellView": "both",
    "colab": {
     "autoexec": {
      "startup": false,
      "wait_interval": 0
     }
    },
    "colab_type": "code",
    "id": "6WZ2l2tN2zOL"
   },
   "outputs": [],
   "source": [
    "def randomize(dataset, labels):\n",
    "  permutation = np.random.permutation(labels.shape[0])\n",
    "  shuffled_dataset = dataset[permutation,:,:]\n",
    "  shuffled_labels = labels[permutation]\n",
    "  return shuffled_dataset, shuffled_labels\n",
    "train_dataset, train_labels = randomize(train_dataset, train_labels)\n",
    "test_dataset, test_labels = randomize(test_dataset, test_labels)\n",
    "valid_dataset, valid_labels = randomize(valid_dataset, valid_labels)"
   ]
  },
  {
   "cell_type": "markdown",
   "metadata": {
    "colab_type": "text",
    "id": "puDUTe6t6USl"
   },
   "source": [
    "---\n",
    "Problem 4\n",
    "---------\n",
    "Convince yourself that the data is still good after shuffling!\n",
    "\n",
    "---"
   ]
  },
  {
   "cell_type": "code",
   "execution_count": 26,
   "metadata": {},
   "outputs": [
    {
     "data": {
      "image/png": "[encoded data removed]",
      "text/plain": [
       "<Figure size 432x288 with 3 Axes>"
      ]
     },
     "metadata": {
      "needs_background": "light"
     },
     "output_type": "display_data"
    }
   ],
   "source": [
    "fig, ax = plt.subplots(3, 1)\n",
    "ax[0].hist(train_labels, 10)\n",
    "ax[1].hist(test_labels, 10)\n",
    "ax[2].hist(valid_labels, 10)\n",
    "fig.tight_layout()"
   ]
  },
  {
   "cell_type": "markdown",
   "metadata": {
    "colab_type": "text",
    "id": "tIQJaJuwg5Hw"
   },
   "source": [
    "Finally, let's save the data for later reuse:"
   ]
  },
  {
   "cell_type": "code",
   "execution_count": 22,
   "metadata": {
    "cellView": "both",
    "colab": {
     "autoexec": {
      "startup": false,
      "wait_interval": 0
     }
    },
    "colab_type": "code",
    "id": "QiR_rETzem6C"
   },
   "outputs": [],
   "source": [
    "pickle_file = os.path.join(data_root, 'notMNIST.pickle')\n",
    "\n",
    "try:\n",
    "  f = open(pickle_file, 'wb')\n",
    "  save = {\n",
    "    'train_dataset': train_dataset,\n",
    "    'train_labels': train_labels,\n",
    "    'valid_dataset': valid_dataset,\n",
    "    'valid_labels': valid_labels,\n",
    "    'test_dataset': test_dataset,\n",
    "    'test_labels': test_labels,\n",
    "    }\n",
    "  pickle.dump(save, f, pickle.HIGHEST_PROTOCOL)\n",
    "  f.close()\n",
    "except Exception as e:\n",
    "  print('Unable to save data to', pickle_file, ':', e)\n",
    "  raise"
   ]
  },
  {
   "cell_type": "code",
   "execution_count": 23,
   "metadata": {
    "cellView": "both",
    "colab": {
     "autoexec": {
      "startup": false,
      "wait_interval": 0
     },
     "output_extras": [
      {
       "item_id": 1
      }
     ]
    },
    "colab_type": "code",
    "executionInfo": {
     "elapsed": 413065,
     "status": "ok",
     "timestamp": 1444485899688,
     "user": {
      "color": "#1FA15D",
      "displayName": "Vincent Vanhoucke",
      "isAnonymous": false,
      "isMe": true,
      "permissionId": "05076109866853157986",
      "photoUrl": "//lh6.googleusercontent.com/-cCJa7dTDcgQ/AAAAAAAAAAI/AAAAAAAACgw/r2EZ_8oYer4/s50-c-k-no/photo.jpg",
      "sessionId": "2a0a5e044bb03b66",
      "userId": "102167687554210253930"
     },
     "user_tz": 420
    },
    "id": "hQbLjrW_iT39",
    "outputId": "b440efc6-5ee1-4cbc-d02d-93db44ebd956"
   },
   "outputs": [
    {
     "name": "stdout",
     "output_type": "stream",
     "text": [
      "Compressed pickle size: 690800506\n"
     ]
    }
   ],
   "source": [
    "statinfo = os.stat(pickle_file)\n",
    "print('Compressed pickle size:', statinfo.st_size)"
   ]
  },
  {
   "cell_type": "markdown",
   "metadata": {
    "colab_type": "text",
    "id": "gE_cRAQB33lk"
   },
   "source": [
    "---\n",
    "Problem 5\n",
    "---------\n",
    "\n",
    "By construction, this dataset might contain a lot of overlapping samples, including training data that's also contained in the validation and test set! Overlap between training and test can skew the results if you expect to use your model in an environment where there is never an overlap, but are actually ok if you expect to see training samples recur when you use it.\n",
    "Measure how much overlap there is between training, validation and test samples.\n",
    "\n",
    "Optional questions:\n",
    "- What about near duplicates between datasets? (images that are almost identical)\n",
    "- Create a sanitized validation and test set, and compare your accuracy on those in subsequent assignments.\n",
    "---"
   ]
  },
  {
   "cell_type": "code",
   "execution_count": 27,
   "metadata": {},
   "outputs": [
    {
     "name": "stdout",
     "output_type": "stream",
     "text": [
      "Duplicates inside training set: 12682\n",
      "Duplicates between training and validation: 942\n",
      "Duplicates between training and test: 1116\n"
     ]
    }
   ],
   "source": [
    "train_dataset.flags.writeable = False\n",
    "valid_dataset.flags.writeable = False\n",
    "test_dataset.flags.writeable = False\n",
    "\n",
    "train_hash = [hash(e.tobytes()) for e in train_dataset]\n",
    "valid_hash = [hash(e.tobytes()) for e in valid_dataset]\n",
    "test_hash = [hash(e.tobytes()) for e in test_dataset]\n",
    "\n",
    "unique_train_hash = set(train_hash)\n",
    "valid_overlap = unique_train_hash.intersection(set(valid_hash))\n",
    "test_overlap = unique_train_hash.intersection(set(test_hash))\n",
    "\n",
    "print('Duplicates inside training set:', len(train_hash) - len(unique_train_hash))\n",
    "print('Duplicates between training and validation:', len(valid_overlap))\n",
    "print('Duplicates between training and test:', len(test_overlap))"
   ]
  },
  {
   "cell_type": "markdown",
   "metadata": {
    "colab_type": "text",
    "id": "L8oww1s4JMQx"
   },
   "source": [
    "---\n",
    "Problem 6\n",
    "---------\n",
    "\n",
    "Let's get an idea of what an off-the-shelf classifier can give you on this data. It's always good to check that there is something to learn, and that it's a problem that is not so trivial that a canned solution solves it.\n",
    "\n",
    "Train a simple model on this data using 50, 100, 1000 and 5000 training samples. Hint: you can use the LogisticRegression model from sklearn.linear_model.\n",
    "\n",
    "Optional question: train an off-the-shelf model on all the data!\n",
    "\n",
    "---"
   ]
  },
  {
   "cell_type": "code",
   "execution_count": 34,
   "metadata": {},
   "outputs": [
    {
     "name": "stderr",
     "output_type": "stream",
     "text": [
      "/Users/zhangtingshuo/anaconda3/lib/python3.7/site-packages/sklearn/linear_model/logistic.py:460: FutureWarning: Default multi_class will be changed to 'auto' in 0.22. Specify the multi_class option to silence this warning.\n",
      "  \"this warning.\", FutureWarning)\n"
     ]
    },
    {
     "name": "stdout",
     "output_type": "stream",
     "text": [
      "Traing scor =  0.9454\n",
      "Test score =  0.8481\n"
     ]
    }
   ],
   "source": [
    "train_sample = train_dataset[:5000, :, :]\n",
    "train_sample_labels = train_labels[:5000]\n",
    "\n",
    "(samples, width, height) = train_sample.shape\n",
    "train_sample = np.reshape(train_sample, (samples, width * height))\n",
    "\n",
    "(samples, width, height) = test_dataset.shape\n",
    "test_dataset_reshaped = np.reshape(test_dataset, (samples, width * height))\n",
    "\n",
    "model = LogisticRegression(penalty = 'l2', C = 1.0)\n",
    "model.fit(train_sample, train_sample_labels)\n",
    "\n",
    "train_score = model.score(train_sample, train_sample_labels)\n",
    "test_score = model.score(test_dataset_reshaped, test_labels)\n",
    "print('Traing scor = ', train_score)\n",
    "print('Test score = ', test_score)"
   ]
  },
  {
   "cell_type": "code",
   "execution_count": null,
   "metadata": {},
   "outputs": [],
   "source": []
  }
 ],
 "metadata": {
  "colab": {
   "default_view": {},
   "name": "1_notmnist.ipynb",
   "provenance": [],
   "toc_visible": true,
   "version": "0.3.2",
   "views": {}
  },
  "kernelspec": {
   "display_name": "Python 3",
   "language": "python",
   "name": "python3"
  },
  "language_info": {
   "codemirror_mode": {
    "name": "ipython",
    "version": 3
   },
   "file_extension": ".py",
   "mimetype": "text/x-python",
   "name": "python",
   "nbconvert_exporter": "python",
   "pygments_lexer": "ipython3",
   "version": "3.7.3"
  }
 },
 "nbformat": 4,
 "nbformat_minor": 1
}

{
 "cells": [
  {
   "cell_type": "markdown",
   "metadata": {},
   "source": [
    "## 1. Summarize the reasons of overfitting and underfitting "
   ]
  },
  {
   "cell_type": "markdown",
   "metadata": {},
   "source": [
    "### Overfitting\n",
    "**Definition**:<br>\n",
    "Overfiting: it is the product of an analysis that corresponds too closely or exactly to a paticular set of data, and may theredore fail to fit additional data or predctfuture observations reliably.<br>\n",
    "**Essence**:<br>\n",
    "it's to have unknowingly extracted some of  the residual variation as if that variation represented underlying model structure.<br>\n",
    "**Reasons**:<br>\n",
    "1. the criterion used for selecting the model is not the same as the criterion used to judge the suitability of a model.<br>\n",
    "2. the number of parameters is the same as or greater than the number of observations<br>\n",
    "3. the conformability of the model structure with the data shape<br>\n",
    "4. the magnitude of the model error compared to expected level of noise or error in the data are different<br>\n",
    "5. using a more complicated approach than is ultimately optimal\n",
    "\n",
    "### Underfitting\n",
    "**Reasons**:<br>\n",
    "1. when model or algorithm cannot capture the underlying structure of the data<br>\n",
    "2. ignore some important replicable structure in the data and thus fail to identify the effects supported by the data\n",
    "\n",
    "**from Wikipedia** "
   ]
  },
  {
   "cell_type": "markdown",
   "metadata": {},
   "source": [
    "## 2. Install the numpy, scikit-learining, keras, tensorflow"
   ]
  },
  {
   "cell_type": "code",
   "execution_count": 2,
   "metadata": {},
   "outputs": [
    {
     "name": "stdout",
     "output_type": "stream",
     "text": [
      "Collecting pip\n",
      "\u001b[?25l  Downloading https://files.pythonhosted.org/packages/8d/07/f7d7ced2f97ca3098c16565efbe6b15fafcba53e8d9bdb431e09140514b0/pip-19.2.2-py2.py3-none-any.whl (1.4MB)\n",
      "\u001b[K     |████████████████████████████████| 1.4MB 45kB/s eta 0:00:013\n",
      "\u001b[?25hInstalling collected packages: pip\n",
      "  Found existing installation: pip 19.2.1\n",
      "    Uninstalling pip-19.2.1:\n",
      "      Successfully uninstalled pip-19.2.1\n",
      "Successfully installed pip-19.2.2\n",
      "Note: you may need to restart the kernel to use updated packages.\n"
     ]
    }
   ],
   "source": [
    "pip install --upgrade pip"
   ]
  },
  {
   "cell_type": "code",
   "execution_count": 3,
   "metadata": {},
   "outputs": [
    {
     "name": "stdout",
     "output_type": "stream",
     "text": [
      "Requirement already satisfied: numpy in /Users/zhangtingshuo/anaconda3/lib/python3.7/site-packages (1.16.2)\n",
      "Note: you may need to restart the kernel to use updated packages.\n"
     ]
    }
   ],
   "source": [
    "pip install numpy"
   ]
  },
  {
   "cell_type": "code",
   "execution_count": 4,
   "metadata": {},
   "outputs": [
    {
     "name": "stdout",
     "output_type": "stream",
     "text": [
      "Collecting keras\n",
      "\u001b[?25l  Downloading https://files.pythonhosted.org/packages/5e/10/aa32dad071ce52b5502266b5c659451cfd6ffcbf14e6c8c4f16c0ff5aaab/Keras-2.2.4-py2.py3-none-any.whl (312kB)\n",
      "\u001b[K     |████████████████████████████████| 317kB 13kB/s eta 0:00:015\n",
      "\u001b[?25hRequirement already satisfied: six>=1.9.0 in /Users/zhangtingshuo/anaconda3/lib/python3.7/site-packages (from keras) (1.12.0)\n",
      "Collecting keras-applications>=1.0.6 (from keras)\n",
      "\u001b[?25l  Downloading https://files.pythonhosted.org/packages/71/e3/19762fdfc62877ae9102edf6342d71b28fbfd9dea3d2f96a882ce099b03f/Keras_Applications-1.0.8-py3-none-any.whl (50kB)\n",
      "\u001b[K     |████████████████████████████████| 51kB 7.2kB/s eta 0:00:02\n",
      "\u001b[?25hRequirement already satisfied: pyyaml in /Users/zhangtingshuo/anaconda3/lib/python3.7/site-packages (from keras) (5.1)\n",
      "Requirement already satisfied: numpy>=1.9.1 in /Users/zhangtingshuo/anaconda3/lib/python3.7/site-packages (from keras) (1.16.2)\n",
      "Collecting keras-preprocessing>=1.0.5 (from keras)\n",
      "\u001b[?25l  Downloading https://files.pythonhosted.org/packages/28/6a/8c1f62c37212d9fc441a7e26736df51ce6f0e38455816445471f10da4f0a/Keras_Preprocessing-1.1.0-py2.py3-none-any.whl (41kB)\n",
      "\u001b[K     |████████████████████████████████| 51kB 19kB/s eta 0:00:01\n",
      "\u001b[?25hRequirement already satisfied: h5py in /Users/zhangtingshuo/anaconda3/lib/python3.7/site-packages (from keras) (2.9.0)\n",
      "Requirement already satisfied: scipy>=0.14 in /Users/zhangtingshuo/anaconda3/lib/python3.7/site-packages (from keras) (1.2.1)\n",
      "Installing collected packages: keras-applications, keras-preprocessing, keras\n",
      "Successfully installed keras-2.2.4 keras-applications-1.0.8 keras-preprocessing-1.1.0\n",
      "Note: you may need to restart the kernel to use updated packages.\n"
     ]
    }
   ],
   "source": [
    "pip install keras"
   ]
  },
  {
   "cell_type": "code",
   "execution_count": 6,
   "metadata": {},
   "outputs": [
    {
     "name": "stdout",
     "output_type": "stream",
     "text": [
      "Requirement already satisfied: scikit-learn in /Users/zhangtingshuo/anaconda3/lib/python3.7/site-packages (0.20.3)\n",
      "Requirement already satisfied: numpy>=1.8.2 in /Users/zhangtingshuo/anaconda3/lib/python3.7/site-packages (from scikit-learn) (1.16.2)\n",
      "Requirement already satisfied: scipy>=0.13.3 in /Users/zhangtingshuo/anaconda3/lib/python3.7/site-packages (from scikit-learn) (1.2.1)\n",
      "Note: you may need to restart the kernel to use updated packages.\n"
     ]
    }
   ],
   "source": [
    "pip install scikit-learn"
   ]
  },
  {
   "cell_type": "code",
   "execution_count": 1,
   "metadata": {},
   "outputs": [
    {
     "name": "stdout",
     "output_type": "stream",
     "text": [
      "Processing ./tensorflow-1.14.0-cp37-cp37m-macosx_10_11_x86_64.whl\n",
      "Requirement already satisfied: google-pasta>=0.1.6 in /Users/zhangtingshuo/anaconda3/lib/python3.7/site-packages (from tensorflow==1.14.0) (0.1.7)\n",
      "Requirement already satisfied: keras-applications>=1.0.6 in /Users/zhangtingshuo/anaconda3/lib/python3.7/site-packages (from tensorflow==1.14.0) (1.0.8)\n",
      "Requirement already satisfied: wheel>=0.26 in /Users/zhangtingshuo/anaconda3/lib/python3.7/site-packages (from tensorflow==1.14.0) (0.33.1)\n",
      "Requirement already satisfied: gast>=0.2.0 in /Users/zhangtingshuo/anaconda3/lib/python3.7/site-packages (from tensorflow==1.14.0) (0.2.2)\n",
      "Requirement already satisfied: absl-py>=0.7.0 in /Users/zhangtingshuo/anaconda3/lib/python3.7/site-packages (from tensorflow==1.14.0) (0.7.1)\n",
      "Requirement already satisfied: tensorboard<1.15.0,>=1.14.0 in /Users/zhangtingshuo/anaconda3/lib/python3.7/site-packages (from tensorflow==1.14.0) (1.14.0)\n",
      "Requirement already satisfied: tensorflow-estimator<1.15.0rc0,>=1.14.0rc0 in /Users/zhangtingshuo/anaconda3/lib/python3.7/site-packages (from tensorflow==1.14.0) (1.14.0)\n",
      "Requirement already satisfied: wrapt>=1.11.1 in /Users/zhangtingshuo/anaconda3/lib/python3.7/site-packages (from tensorflow==1.14.0) (1.11.1)\n",
      "Requirement already satisfied: keras-preprocessing>=1.0.5 in /Users/zhangtingshuo/anaconda3/lib/python3.7/site-packages (from tensorflow==1.14.0) (1.1.0)\n",
      "Requirement already satisfied: numpy<2.0,>=1.14.5 in /Users/zhangtingshuo/anaconda3/lib/python3.7/site-packages (from tensorflow==1.14.0) (1.16.2)\n",
      "Requirement already satisfied: six>=1.10.0 in /Users/zhangtingshuo/anaconda3/lib/python3.7/site-packages (from tensorflow==1.14.0) (1.12.0)\n",
      "Requirement already satisfied: grpcio>=1.8.6 in /Users/zhangtingshuo/anaconda3/lib/python3.7/site-packages (from tensorflow==1.14.0) (1.22.0)\n",
      "Requirement already satisfied: termcolor>=1.1.0 in /Users/zhangtingshuo/anaconda3/lib/python3.7/site-packages (from tensorflow==1.14.0) (1.1.0)\n",
      "Requirement already satisfied: protobuf>=3.6.1 in /Users/zhangtingshuo/anaconda3/lib/python3.7/site-packages (from tensorflow==1.14.0) (3.9.1)\n",
      "Requirement already satisfied: astor>=0.6.0 in /Users/zhangtingshuo/anaconda3/lib/python3.7/site-packages (from tensorflow==1.14.0) (0.8.0)\n",
      "Requirement already satisfied: h5py in /Users/zhangtingshuo/anaconda3/lib/python3.7/site-packages (from keras-applications>=1.0.6->tensorflow==1.14.0) (2.9.0)\n",
      "Requirement already satisfied: setuptools>=41.0.0 in /Users/zhangtingshuo/anaconda3/lib/python3.7/site-packages (from tensorboard<1.15.0,>=1.14.0->tensorflow==1.14.0) (41.1.0)\n",
      "Requirement already satisfied: markdown>=2.6.8 in /Users/zhangtingshuo/anaconda3/lib/python3.7/site-packages (from tensorboard<1.15.0,>=1.14.0->tensorflow==1.14.0) (3.1.1)\n",
      "Requirement already satisfied: werkzeug>=0.11.15 in /Users/zhangtingshuo/anaconda3/lib/python3.7/site-packages (from tensorboard<1.15.0,>=1.14.0->tensorflow==1.14.0) (0.14.1)\n",
      "Installing collected packages: tensorflow\n",
      "Successfully installed tensorflow-1.14.0\n",
      "Note: you may need to restart the kernel to use updated packages.\n"
     ]
    }
   ],
   "source": [
    "pip install tensorflow-1.14.0-cp37-cp37m-macosx_10_11_x86_64.whl"
   ]
  },
  {
   "cell_type": "markdown",
   "metadata": {},
   "source": [
    "## 3. Write down three sceneries that machine learning has been used now "
   ]
  },
  {
   "cell_type": "markdown",
   "metadata": {},
   "source": [
    "1. Facial recognition \n",
    "2. Voice recognition \n",
    "3. Finalcial services\n",
    "4. Health care"
   ]
  },
  {
   "cell_type": "markdown",
   "metadata": {},
   "source": [
    "## 4. Come up with three new sceneries that machine learning might be applied "
   ]
  },
  {
   "cell_type": "markdown",
   "metadata": {},
   "source": [
    "1. Fine-tuned personalization\n",
    "2. Better search engine experiences\n",
    "3. Evolution of data teams\n",
    "4. No-code environments\n",
    "5. Rise of quantum computing\n",
    "\n",
    "** from https://learn.g2.com/future-of-machine-learning **"
   ]
  }
 ],
 "metadata": {
  "kernelspec": {
   "display_name": "Python 3",
   "language": "python",
   "name": "python3"
  },
  "language_info": {
   "codemirror_mode": {
    "name": "ipython",
    "version": 3
   },
   "file_extension": ".py",
   "mimetype": "text/x-python",
   "name": "python",
   "nbconvert_exporter": "python",
   "pygments_lexer": "ipython3",
   "version": "3.7.3"
  }
 },
 "nbformat": 4,
 "nbformat_minor": 2
}

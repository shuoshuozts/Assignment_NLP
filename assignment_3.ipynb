{
 "cells": [
  {
   "cell_type": "markdown",
   "metadata": {},
   "source": [
    "# Assignment 3"
   ]
  },
  {
   "cell_type": "markdown",
   "metadata": {},
   "source": [
    "### Content"
   ]
  },
  {
   "cell_type": "markdown",
   "metadata": {},
   "source": [
    "Part 1 Review the Online Programming"
   ]
  },
  {
   "cell_type": "markdown",
   "metadata": {},
   "source": [
    "Part 2 Finish the Solution Parse Part of Edit-Distance"
   ]
  },
  {
   "cell_type": "markdown",
   "metadata": {},
   "source": [
    "Part 3 Change Loss Function to $loss = \\frac{1}{n}\\sum{|y_i - \\hat{y_i}|}$ "
   ]
  },
  {
   "cell_type": "markdown",
   "metadata": {},
   "source": [
    "Part 4 Q&A"
   ]
  },
  {
   "cell_type": "markdown",
   "metadata": {},
   "source": []
  },
  {
   "cell_type": "markdown",
   "metadata": {},
   "source": [
    "### Part 1 Review the Online Programming"
   ]
  },
  {
   "cell_type": "markdown",
   "metadata": {},
   "source": [
    "Gradient Descent Method part is reviewed and added in Assignment 2 "
   ]
  },
  {
   "cell_type": "code",
   "execution_count": 166,
   "metadata": {},
   "outputs": [],
   "source": [
    "original_price = [1, 5, 8, 9, 10, 17, 17, 20, 24, 30, 32]"
   ]
  },
  {
   "cell_type": "code",
   "execution_count": 167,
   "metadata": {},
   "outputs": [],
   "source": [
    "from collections import defaultdict"
   ]
  },
  {
   "cell_type": "code",
   "execution_count": 168,
   "metadata": {},
   "outputs": [],
   "source": [
    "price = defaultdict(int)\n",
    "\n",
    "for i, p in enumerate(original_price):\n",
    "    price[i + 1] = p"
   ]
  },
  {
   "cell_type": "code",
   "execution_count": 169,
   "metadata": {},
   "outputs": [
    {
     "name": "stdout",
     "output_type": "stream",
     "text": [
      "defaultdict(<class 'int'>, {1: 1, 2: 5, 3: 8, 4: 9, 5: 10, 6: 17, 7: 17, 8: 20, 9: 24, 10: 30, 11: 32})\n"
     ]
    }
   ],
   "source": [
    "print(price)"
   ]
  },
  {
   "cell_type": "markdown",
   "metadata": {},
   "source": [
    "#### Get the Max Splitting by Enumerate"
   ]
  },
  {
   "cell_type": "code",
   "execution_count": 144,
   "metadata": {},
   "outputs": [],
   "source": [
    "def example(f, arg):\n",
    "    return f(arg)\n",
    "\n",
    "\n",
    "def add_ten(num):\n",
    "    return num + 10\n",
    "\n",
    "def mul_ten(num):\n",
    "    return num * 10"
   ]
  },
  {
   "cell_type": "code",
   "execution_count": 145,
   "metadata": {},
   "outputs": [
    {
     "name": "stdout",
     "output_type": "stream",
     "text": [
      "110\n",
      "1000\n"
     ]
    }
   ],
   "source": [
    "operations = [add_ten, mul_ten]\n",
    "\n",
    "for t in operations:\n",
    "    print(example(t, 100))"
   ]
  },
  {
   "cell_type": "code",
   "execution_count": 146,
   "metadata": {},
   "outputs": [],
   "source": [
    "called_time = defaultdict(int)\n",
    "\n",
    "def get_call_times(f):\n",
    "    result = f()\n",
    "    print('function: {} called once!'.format(f.__name__))\n",
    "    called_time[f.__name__] += 1\n",
    "    \n",
    "    return result"
   ]
  },
  {
   "cell_type": "code",
   "execution_count": 147,
   "metadata": {},
   "outputs": [],
   "source": [
    "def some_fuction_1(): print('I am function 1')"
   ]
  },
  {
   "cell_type": "code",
   "execution_count": 148,
   "metadata": {},
   "outputs": [
    {
     "name": "stdout",
     "output_type": "stream",
     "text": [
      "I am function 1\n",
      "function: some_fuction_1 called once!\n"
     ]
    }
   ],
   "source": [
    "get_call_times(some_fuction_1)"
   ]
  },
  {
   "cell_type": "code",
   "execution_count": 149,
   "metadata": {},
   "outputs": [
    {
     "data": {
      "text/plain": [
       "defaultdict(int, {'some_fuction_1': 1})"
      ]
     },
     "execution_count": 149,
     "metadata": {},
     "output_type": "execute_result"
    }
   ],
   "source": [
    "called_time"
   ]
  },
  {
   "cell_type": "markdown",
   "metadata": {},
   "source": [
    "##### Decorator"
   ]
  },
  {
   "cell_type": "code",
   "execution_count": 150,
   "metadata": {},
   "outputs": [],
   "source": [
    "from functools import wraps"
   ]
  },
  {
   "cell_type": "code",
   "execution_count": 151,
   "metadata": {},
   "outputs": [],
   "source": [
    "called_time_with_arg = defaultdict(int)\n",
    "\n",
    "def get_call_time(f):\n",
    "    \"@param f is a function\"\n",
    "    @wraps(f)\n",
    "    def wrap(n):\n",
    "        \"Hehe I'm wrap\"\n",
    "        print('Try try')\n",
    "        result = f(n)\n",
    "        called_time_with_arg[(f.__name__, n)] += 1\n",
    "        return result\n",
    "    return wrap"
   ]
  },
  {
   "cell_type": "code",
   "execution_count": 152,
   "metadata": {},
   "outputs": [],
   "source": [
    "add_ten = get_call_time(add_ten)"
   ]
  },
  {
   "cell_type": "code",
   "execution_count": 153,
   "metadata": {},
   "outputs": [
    {
     "name": "stdout",
     "output_type": "stream",
     "text": [
      "Try try\n"
     ]
    },
    {
     "data": {
      "text/plain": [
       "20"
      ]
     },
     "execution_count": 153,
     "metadata": {},
     "output_type": "execute_result"
    }
   ],
   "source": [
    "add_ten(10)"
   ]
  },
  {
   "cell_type": "code",
   "execution_count": 154,
   "metadata": {},
   "outputs": [],
   "source": [
    "\"\"\"\n",
    "the following codes have the same function\n",
    " with \"add_twenty = get_call_time(add_twenty)\"\n",
    "\"\"\" \n",
    "@get_call_time\n",
    "def add_twenty(n):\n",
    "    return n + 20"
   ]
  },
  {
   "cell_type": "code",
   "execution_count": 155,
   "metadata": {},
   "outputs": [
    {
     "name": "stdout",
     "output_type": "stream",
     "text": [
      "Try try\n"
     ]
    },
    {
     "data": {
      "text/plain": [
       "30"
      ]
     },
     "execution_count": 155,
     "metadata": {},
     "output_type": "execute_result"
    }
   ],
   "source": [
    "add_twenty(10)"
   ]
  },
  {
   "cell_type": "code",
   "execution_count": 156,
   "metadata": {},
   "outputs": [],
   "source": [
    "add_twenty = get_call_time(add_twenty)"
   ]
  },
  {
   "cell_type": "code",
   "execution_count": 157,
   "metadata": {},
   "outputs": [
    {
     "name": "stdout",
     "output_type": "stream",
     "text": [
      "Try try\n",
      "Try try\n"
     ]
    },
    {
     "data": {
      "text/plain": [
       "30"
      ]
     },
     "execution_count": 157,
     "metadata": {},
     "output_type": "execute_result"
    }
   ],
   "source": [
    "add_twenty(10)"
   ]
  },
  {
   "cell_type": "code",
   "execution_count": 158,
   "metadata": {},
   "outputs": [
    {
     "data": {
      "text/plain": [
       "defaultdict(int, {('add_ten', 10): 1, ('add_twenty', 10): 3})"
      ]
     },
     "execution_count": 158,
     "metadata": {},
     "output_type": "execute_result"
    }
   ],
   "source": [
    "called_time_with_arg"
   ]
  },
  {
   "cell_type": "markdown",
   "metadata": {},
   "source": [
    "#### Dynamic Programming "
   ]
  },
  {
   "cell_type": "markdown",
   "metadata": {},
   "source": [
    "+ 1. Overlapping Subproblems\n",
    "+ 2. Overlapping computing saved in a table\n",
    "+ 3. Parse solution"
   ]
  },
  {
   "cell_type": "code",
   "execution_count": 159,
   "metadata": {},
   "outputs": [],
   "source": [
    "# 对于已经划分好的值进行记录\n",
    "def memo(f):\n",
    "    memo.already_computed = {}\n",
    "    @wraps(f)\n",
    "    def _wrap(arg):\n",
    "        result = None\n",
    "        \n",
    "        if arg in memo.already_computed:\n",
    "            result = memo.already_computed[arg]\n",
    "        else:\n",
    "            result = f(arg)\n",
    "            memo.already_computed[arg] = result\n",
    "            \n",
    "        return result\n",
    "    return _wrap"
   ]
  },
  {
   "cell_type": "code",
   "execution_count": 184,
   "metadata": {},
   "outputs": [],
   "source": [
    "solution = {}\n",
    "called_time_with_arg = defaultdict(int)\n",
    "@memo\n",
    "def r(n):\n",
    "    \"\"\"\n",
    "    args: n is the iron length\n",
    "    return: the maximum revenue\n",
    "    \"\"\"\n",
    "    fname = r.__name__\n",
    "    call_time_with_arg\n",
    "    \n",
    "    max_price, max_split = max(\n",
    "    [(price[n], 0)] + [(r(i)  + r(n-i), i) for i in range(1, n)], key = lambda x: x[0]\n",
    "    )\n",
    "    \n",
    "    solution[n] = (n - max_split, max_split)\n",
    "    \n",
    "    return max_price"
   ]
  },
  {
   "cell_type": "code",
   "execution_count": 185,
   "metadata": {},
   "outputs": [
    {
     "data": {
      "text/plain": [
       "100"
      ]
     },
     "execution_count": 185,
     "metadata": {},
     "output_type": "execute_result"
    }
   ],
   "source": [
    "r(34)"
   ]
  },
  {
   "cell_type": "code",
   "execution_count": 186,
   "metadata": {
    "scrolled": true
   },
   "outputs": [
    {
     "data": {
      "text/plain": [
       "{1: (1, 0),\n",
       " 2: (2, 0),\n",
       " 3: (3, 0),\n",
       " 4: (2, 2),\n",
       " 5: (3, 2),\n",
       " 6: (6, 0),\n",
       " 7: (6, 1),\n",
       " 8: (6, 2),\n",
       " 9: (6, 3),\n",
       " 10: (10, 0),\n",
       " 11: (11, 0),\n",
       " 12: (10, 2),\n",
       " 13: (10, 3),\n",
       " 14: (12, 2),\n",
       " 15: (13, 2),\n",
       " 16: (10, 6),\n",
       " 17: (11, 6),\n",
       " 18: (16, 2),\n",
       " 19: (16, 3),\n",
       " 20: (10, 10),\n",
       " 21: (11, 10),\n",
       " 22: (20, 2),\n",
       " 23: (20, 3),\n",
       " 24: (22, 2),\n",
       " 25: (23, 2),\n",
       " 26: (20, 6),\n",
       " 27: (21, 6),\n",
       " 28: (26, 2),\n",
       " 29: (26, 3),\n",
       " 30: (20, 10),\n",
       " 31: (21, 10),\n",
       " 32: (30, 2),\n",
       " 33: (30, 3),\n",
       " 34: (32, 2)}"
      ]
     },
     "execution_count": 186,
     "metadata": {},
     "output_type": "execute_result"
    }
   ],
   "source": [
    "solution"
   ]
  },
  {
   "cell_type": "code",
   "execution_count": 187,
   "metadata": {},
   "outputs": [],
   "source": [
    "def parse_solution(n):\n",
    "    left_split, right_split = solution[n]\n",
    "    \n",
    "    if right_split == 0: return[left_split]\n",
    "    \n",
    "    return parse_solution(left_split) + parse_solution(right_split)"
   ]
  },
  {
   "cell_type": "code",
   "execution_count": 188,
   "metadata": {},
   "outputs": [
    {
     "data": {
      "text/plain": [
       "55"
      ]
     },
     "execution_count": 188,
     "metadata": {},
     "output_type": "execute_result"
    }
   ],
   "source": [
    "r(19)"
   ]
  },
  {
   "cell_type": "code",
   "execution_count": 192,
   "metadata": {},
   "outputs": [
    {
     "data": {
      "text/plain": [
       "[10, 10, 3, 2]"
      ]
     },
     "execution_count": 192,
     "metadata": {},
     "output_type": "execute_result"
    }
   ],
   "source": [
    "parse_solution(25)"
   ]
  },
  {
   "cell_type": "markdown",
   "metadata": {},
   "source": [
    "#### Edit Distance "
   ]
  },
  {
   "cell_type": "code",
   "execution_count": 265,
   "metadata": {},
   "outputs": [],
   "source": [
    "solution = {}"
   ]
  },
  {
   "cell_type": "code",
   "execution_count": 266,
   "metadata": {},
   "outputs": [],
   "source": [
    "from functools import lru_cache"
   ]
  },
  {
   "cell_type": "code",
   "execution_count": 267,
   "metadata": {},
   "outputs": [],
   "source": [
    "@lru_cache(maxsize = 2 ** 10)\n",
    "def edit_distance(string1, string2):\n",
    "    \n",
    "    if len(string1) == 0: return len(string2)\n",
    "    if len(string2) == 0: return len(string1)\n",
    "    \n",
    "    tail_s1 = string1[-1]\n",
    "    tail_s2 = string2[-1]\n",
    "    \n",
    "    candidates = [\n",
    "        (edit_distance(string1[:-1], string2) + 1, 'DEL {}'.format(tail_s1)),\n",
    "        (edit_distance(string1, string2[:-1]) + 1, 'ADD {}'.format(tail_s2)),\n",
    "    ]\n",
    "    \n",
    "    if tail_s1 == tail_s2:\n",
    "        both_forward = (edit_distance(string1[:-1], string2[:-1]) + 0, '')\n",
    "        \n",
    "    else:\n",
    "        both_forward = (edit_distance(string1[:-1], string2[:-1]) + 1, 'SUB {} => {}'.format(tail_s1, tail_s2))\n",
    "    \n",
    "    candidates.append(both_forward)\n",
    "    \n",
    "    min_distance, operation = min(candidates, key=lambda x: x[0])\n",
    "    \n",
    "    solution[(string1, string2)] = operation\n",
    "    \n",
    "    return min_distance"
   ]
  },
  {
   "cell_type": "code",
   "execution_count": 268,
   "metadata": {},
   "outputs": [
    {
     "data": {
      "text/plain": [
       "3"
      ]
     },
     "execution_count": 268,
     "metadata": {},
     "output_type": "execute_result"
    }
   ],
   "source": [
    "edit_distance('ABCDE', 'ABCCFG')"
   ]
  },
  {
   "cell_type": "code",
   "execution_count": 269,
   "metadata": {},
   "outputs": [
    {
     "data": {
      "text/plain": [
       "2"
      ]
     },
     "execution_count": 269,
     "metadata": {},
     "output_type": "execute_result"
    }
   ],
   "source": [
    "edit_distance('Beijing','beijink')"
   ]
  },
  {
   "cell_type": "code",
   "execution_count": 323,
   "metadata": {},
   "outputs": [
    {
     "data": {
      "text/plain": [
       "1"
      ]
     },
     "execution_count": 323,
     "metadata": {},
     "output_type": "execute_result"
    }
   ],
   "source": [
    "edit_distance('be','bc')"
   ]
  },
  {
   "cell_type": "code",
   "execution_count": 504,
   "metadata": {},
   "outputs": [
    {
     "data": {
      "text/plain": [
       "4"
      ]
     },
     "execution_count": 504,
     "metadata": {},
     "output_type": "execute_result"
    }
   ],
   "source": [
    "edit_distance('我真好看','我怎么这么好看')"
   ]
  },
  {
   "cell_type": "code",
   "execution_count": 505,
   "metadata": {},
   "outputs": [
    {
     "data": {
      "text/plain": [
       "{('A', 'A'): '',\n",
       " ('A', 'AB'): 'ADD B',\n",
       " ('A', 'ABC'): 'ADD C',\n",
       " ('A', 'ABCC'): 'ADD C',\n",
       " ('A', 'ABCCF'): 'ADD F',\n",
       " ('A', 'ABCCFG'): 'ADD G',\n",
       " ('AB', 'A'): 'DEL B',\n",
       " ('AB', 'AB'): '',\n",
       " ('AB', 'ABC'): 'ADD C',\n",
       " ('AB', 'ABCC'): 'ADD C',\n",
       " ('AB', 'ABCCF'): 'ADD F',\n",
       " ('AB', 'ABCCFG'): 'ADD G',\n",
       " ('ABC', 'A'): 'DEL C',\n",
       " ('ABC', 'AB'): 'DEL C',\n",
       " ('ABC', 'ABC'): '',\n",
       " ('ABC', 'ABCC'): 'ADD C',\n",
       " ('ABC', 'ABCCF'): 'ADD F',\n",
       " ('ABC', 'ABCCFG'): 'ADD G',\n",
       " ('ABCD', 'A'): 'DEL D',\n",
       " ('ABCD', 'AB'): 'DEL D',\n",
       " ('ABCD', 'ABC'): 'DEL D',\n",
       " ('ABCD', 'ABCC'): 'SUB D => C',\n",
       " ('ABCD', 'ABCCF'): 'ADD F',\n",
       " ('ABCD', 'ABCCFG'): 'ADD G',\n",
       " ('ABCDE', 'A'): 'DEL E',\n",
       " ('ABCDE', 'AB'): 'DEL E',\n",
       " ('ABCDE', 'ABC'): 'DEL E',\n",
       " ('ABCDE', 'ABCC'): 'DEL E',\n",
       " ('ABCDE', 'ABCCF'): 'SUB E => F',\n",
       " ('ABCDE', 'ABCCFG'): 'ADD G',\n",
       " ('B', 'b'): 'SUB B => b',\n",
       " ('B', 'be'): 'ADD e',\n",
       " ('B', 'bei'): 'ADD i',\n",
       " ('B', 'beij'): 'ADD j',\n",
       " ('B', 'beiji'): 'ADD i',\n",
       " ('B', 'beijin'): 'ADD n',\n",
       " ('B', 'beijink'): 'ADD k',\n",
       " ('Be', 'b'): 'DEL e',\n",
       " ('Be', 'be'): '',\n",
       " ('Be', 'bei'): 'ADD i',\n",
       " ('Be', 'beij'): 'ADD j',\n",
       " ('Be', 'beiji'): 'ADD i',\n",
       " ('Be', 'beijin'): 'ADD n',\n",
       " ('Be', 'beijink'): 'ADD k',\n",
       " ('Bei', 'b'): 'DEL i',\n",
       " ('Bei', 'be'): 'DEL i',\n",
       " ('Bei', 'bei'): '',\n",
       " ('Bei', 'beij'): 'ADD j',\n",
       " ('Bei', 'beiji'): 'ADD i',\n",
       " ('Bei', 'beijin'): 'ADD n',\n",
       " ('Bei', 'beijink'): 'ADD k',\n",
       " ('Beij', 'b'): 'DEL j',\n",
       " ('Beij', 'be'): 'DEL j',\n",
       " ('Beij', 'bei'): 'DEL j',\n",
       " ('Beij', 'beij'): '',\n",
       " ('Beij', 'beiji'): 'ADD i',\n",
       " ('Beij', 'beijin'): 'ADD n',\n",
       " ('Beij', 'beijink'): 'ADD k',\n",
       " ('Beiji', 'b'): 'DEL i',\n",
       " ('Beiji', 'be'): 'DEL i',\n",
       " ('Beiji', 'bei'): 'DEL i',\n",
       " ('Beiji', 'beij'): 'DEL i',\n",
       " ('Beiji', 'beiji'): '',\n",
       " ('Beiji', 'beijin'): 'ADD n',\n",
       " ('Beiji', 'beijink'): 'ADD k',\n",
       " ('Beijin', 'b'): 'DEL n',\n",
       " ('Beijin', 'be'): 'DEL n',\n",
       " ('Beijin', 'bei'): 'DEL n',\n",
       " ('Beijin', 'beij'): 'DEL n',\n",
       " ('Beijin', 'beiji'): 'DEL n',\n",
       " ('Beijin', 'beijin'): '',\n",
       " ('Beijin', 'beijink'): 'ADD k',\n",
       " ('Beijing', 'b'): 'DEL g',\n",
       " ('Beijing', 'be'): 'DEL g',\n",
       " ('Beijing', 'bei'): 'DEL g',\n",
       " ('Beijing', 'beij'): 'DEL g',\n",
       " ('Beijing', 'beiji'): 'DEL g',\n",
       " ('Beijing', 'beijin'): 'DEL g',\n",
       " ('Beijing', 'beijink'): 'SUB g => k',\n",
       " ('b', 'b'): '',\n",
       " ('b', 'bc'): 'ADD c',\n",
       " ('be', 'b'): 'DEL e',\n",
       " ('be', 'bc'): 'SUB e => c',\n",
       " ('我', '我'): '',\n",
       " ('我', '我怎'): 'ADD 怎',\n",
       " ('我', '我怎么'): 'ADD 么',\n",
       " ('我', '我怎么这'): 'ADD 这',\n",
       " ('我', '我怎么这么'): 'ADD 么',\n",
       " ('我', '我怎么这么好'): 'ADD 好',\n",
       " ('我', '我怎么这么好看'): 'ADD 看',\n",
       " ('我真', '我'): 'DEL 真',\n",
       " ('我真', '我怎'): 'SUB 真 => 怎',\n",
       " ('我真', '我怎么'): 'ADD 么',\n",
       " ('我真', '我怎么这'): 'ADD 这',\n",
       " ('我真', '我怎么这么'): 'ADD 么',\n",
       " ('我真', '我怎么这么好'): 'ADD 好',\n",
       " ('我真', '我怎么这么好看'): 'ADD 看',\n",
       " ('我真好', '我'): 'DEL 好',\n",
       " ('我真好', '我怎'): 'DEL 好',\n",
       " ('我真好', '我怎么'): 'SUB 好 => 么',\n",
       " ('我真好', '我怎么这'): 'ADD 这',\n",
       " ('我真好', '我怎么这么'): 'ADD 么',\n",
       " ('我真好', '我怎么这么好'): '',\n",
       " ('我真好', '我怎么这么好看'): 'ADD 看',\n",
       " ('我真好看', '我'): 'DEL 看',\n",
       " ('我真好看', '我怎'): 'DEL 看',\n",
       " ('我真好看', '我怎么'): 'DEL 看',\n",
       " ('我真好看', '我怎么这'): 'SUB 看 => 这',\n",
       " ('我真好看', '我怎么这么'): 'ADD 么',\n",
       " ('我真好看', '我怎么这么好'): 'DEL 看',\n",
       " ('我真好看', '我怎么这么好看'): ''}"
      ]
     },
     "execution_count": 505,
     "metadata": {},
     "output_type": "execute_result"
    }
   ],
   "source": [
    "solution"
   ]
  },
  {
   "cell_type": "markdown",
   "metadata": {},
   "source": [
    "### Part 2 Finish the Solution Parse Part of Edit-Distance"
   ]
  },
  {
   "cell_type": "code",
   "execution_count": 506,
   "metadata": {},
   "outputs": [],
   "source": [
    "def parse_distance(string1, string2, ed_solution):\n",
    "\n",
    "    operation = ed_solution[string1, string2]\n",
    "    \n",
    "    if len(string1)==1 and len(string2)==1: return vacant(operation)\n",
    "    \n",
    "    if (operation.split()[0] if operation != '' else operation) == 'DEL':\n",
    "        \n",
    "        return parse_distance(string1[:-1], string2, ed_solution) + [operation]\n",
    "    \n",
    "    elif (operation.split()[0] if operation != '' else operation) == 'ADD':\n",
    "        \n",
    "        return parse_distance(string1, string2[:-1], ed_solution) + [operation]\n",
    "    \n",
    "    else:\n",
    "        \n",
    "        return parse_distance(string1[:-1], string2[:-1], ed_solution) + vacant(operation)\n",
    "    \n",
    "def vacant(value):\n",
    "    \n",
    "    if value=='':return [] \n",
    "    else: return [value]"
   ]
  },
  {
   "cell_type": "code",
   "execution_count": 507,
   "metadata": {},
   "outputs": [
    {
     "data": {
      "text/plain": [
       "['ADD C', 'ADD C', 'ADD F']"
      ]
     },
     "execution_count": 507,
     "metadata": {},
     "output_type": "execute_result"
    }
   ],
   "source": [
    "parse_distance('AB', 'ABCCF', ed_solution=solution)"
   ]
  },
  {
   "cell_type": "code",
   "execution_count": 508,
   "metadata": {},
   "outputs": [
    {
     "data": {
      "text/plain": [
       "['SUB B => b', 'ADD e', 'ADD i', 'ADD j', 'ADD i', 'ADD n']"
      ]
     },
     "execution_count": 508,
     "metadata": {},
     "output_type": "execute_result"
    }
   ],
   "source": [
    "parse_distance('B', 'beijin', ed_solution=solution)"
   ]
  },
  {
   "cell_type": "code",
   "execution_count": 509,
   "metadata": {},
   "outputs": [
    {
     "data": {
      "text/plain": [
       "['SUB B => b', 'DEL i', 'DEL j', 'DEL i', 'DEL n', 'DEL g']"
      ]
     },
     "execution_count": 509,
     "metadata": {},
     "output_type": "execute_result"
    }
   ],
   "source": [
    "parse_distance('Beijing', 'be', solution)"
   ]
  },
  {
   "cell_type": "code",
   "execution_count": 510,
   "metadata": {},
   "outputs": [
    {
     "data": {
      "text/plain": [
       "['ADD c']"
      ]
     },
     "execution_count": 510,
     "metadata": {},
     "output_type": "execute_result"
    }
   ],
   "source": [
    "parse_distance('b', 'bc', solution)"
   ]
  },
  {
   "cell_type": "code",
   "execution_count": 511,
   "metadata": {},
   "outputs": [
    {
     "data": {
      "text/plain": [
       "['SUB 真 => 怎', 'SUB 好 => 么', 'SUB 看 => 这', 'ADD 么']"
      ]
     },
     "execution_count": 511,
     "metadata": {},
     "output_type": "execute_result"
    }
   ],
   "source": [
    "parse_distance('我真好看', '我怎么这么', solution)"
   ]
  },
  {
   "cell_type": "markdown",
   "metadata": {},
   "source": [
    "### Part 3 Change Loss Function to $loss = \\frac{1}{n}\\sum{|y_i - \\hat{y_i}|}$ \n",
    "Try to get the right partial formual and implement the gradient descent code."
   ]
  },
  {
   "cell_type": "markdown",
   "metadata": {},
   "source": [
    "$$ \\frac{\\partial{loss}}{\\partial{k}} = -\\frac{1}{n} \\sum{\\frac{|y_i - (kx_i+b)|}{y_i - (kx_i + b)}x_i} $$"
   ]
  },
  {
   "cell_type": "markdown",
   "metadata": {},
   "source": [
    "$$ \\frac{\\partial{loss}}{\\partial{b}} = -\\frac{1}{n} \\sum{\\frac{|y_i - (kx_i+b)|}{y_i - (kx_i + b)}} $$"
   ]
  },
  {
   "cell_type": "markdown",
   "metadata": {},
   "source": [
    "$$ \\frac{\\partial{loss}}{\\partial{k}} = -\\frac{1}{n} \\sum{\\frac{|y_i - \\hat{y_i}|}{y_i - \\hat{y_i}}x_i} $$"
   ]
  },
  {
   "cell_type": "markdown",
   "metadata": {},
   "source": [
    "$$ \\frac{\\partial{loss}}{\\partial{b}} = -\\frac{1}{n} \\sum{\\frac{|y_i - \\hat{y_i}|}{y_i - \\hat{y_i}}} $$"
   ]
  },
  {
   "cell_type": "code",
   "execution_count": 550,
   "metadata": {},
   "outputs": [],
   "source": [
    "from sklearn.datasets import load_boston"
   ]
  },
  {
   "cell_type": "code",
   "execution_count": 551,
   "metadata": {},
   "outputs": [],
   "source": [
    "import random"
   ]
  },
  {
   "cell_type": "code",
   "execution_count": 568,
   "metadata": {},
   "outputs": [],
   "source": [
    "data = load_boston()\n",
    "x,y = data['data'], data['target']\n",
    "x_rm = x[:, 5]"
   ]
  },
  {
   "cell_type": "code",
   "execution_count": 569,
   "metadata": {},
   "outputs": [],
   "source": [
    "def price(rm, k, b):\n",
    "    # f(x) = k*x + b\n",
    "    return k * rm + b"
   ]
  },
  {
   "cell_type": "code",
   "execution_count": 737,
   "metadata": {},
   "outputs": [],
   "source": [
    "def loss(y, y_hat):\n",
    "    return sum(abs(y_i - y_hat_i) for y_i, y_hat_i in zip(list(y), list(y_hat))) / len(list(y))\n",
    "#     return sum((y_i - y_hat_i) ** 2 for y_i, y_hat_i in zip(list(y), list(y_hat))) / len(list(y))"
   ]
  },
  {
   "cell_type": "code",
   "execution_count": 670,
   "metadata": {},
   "outputs": [],
   "source": [
    "def partial_k(x, y, y_hat):\n",
    "    n = len(y)\n",
    "    \n",
    "    gradient_k = 0\n",
    "    \n",
    "    for x_i, y_i, y_hat_i in zip(list(x), list(y), list(y_hat)):\n",
    "        if y_i - y_hat_i == 0: continue\n",
    "        gradient_k += abs(y_i - y_hat_i)/(y_i - y_hat_i) * x_i\n",
    "        \n",
    "    return -1 / n * gradient_k\n",
    "\n",
    "def partial_b(x, y, y_hat):\n",
    "    n = len(y)\n",
    "    \n",
    "    gradient_b = 0\n",
    "    \n",
    "    for y_i, y_hat_i in zip(list(y), list(y_hat)):\n",
    "        if y_i - y_hat_i == 0: continue\n",
    "        gradient_b += abs(y_i - y_hat_i)/(y_i - y_hat_i)\n",
    "        \n",
    "    return -1 / n * gradient_b"
   ]
  },
  {
   "cell_type": "code",
   "execution_count": 718,
   "metadata": {},
   "outputs": [
    {
     "name": "stdout",
     "output_type": "stream",
     "text": [
      "When time is : 49, get best_k: 74.4268500374851 best_b: -83.53692740404452, and the loss is: 361.6758073596982\n",
      "When time is : 99, get best_k: 71.28453284380926 best_b: -84.03692740404477, and the loss is: 341.4274926683555\n",
      "When time is : 149, get best_k: 68.14221565013342 best_b: -84.53692740404503, and the loss is: 321.1791779770135\n",
      "When time is : 199, get best_k: 64.99989845645759 best_b: -85.03692740404529, and the loss is: 300.93086328567125\n",
      "When time is : 249, get best_k: 61.85758126278175 best_b: -85.53692740404554, and the loss is: 280.6825485943294\n",
      "When time is : 299, get best_k: 58.71526406910591 best_b: -86.0369274040458, and the loss is: 260.43423390298676\n",
      "When time is : 349, get best_k: 55.57294687543008 best_b: -86.53692740404605, and the loss is: 240.1859192116446\n",
      "When time is : 399, get best_k: 52.43062968175424 best_b: -87.03692740404631, and the loss is: 219.93760452030247\n",
      "When time is : 449, get best_k: 49.288312488078404 best_b: -87.53692740404657, and the loss is: 199.68928982896045\n",
      "When time is : 499, get best_k: 46.14599529440257 best_b: -88.03692740404682, and the loss is: 179.44097513761824\n",
      "When time is : 549, get best_k: 43.00367810072673 best_b: -88.53692740404708, and the loss is: 159.19266044627602\n",
      "When time is : 599, get best_k: 39.861360907050894 best_b: -89.03692740404733, and the loss is: 138.94434575493406\n",
      "When time is : 649, get best_k: 36.71904371337506 best_b: -89.53692740404759, and the loss is: 118.69603106359169\n",
      "When time is : 699, get best_k: 33.57672651969922 best_b: -90.03692740404784, and the loss is: 98.4477163722498\n",
      "When time is : 749, get best_k: 30.440180116537224 best_b: -90.53530685068822, and the loss is: 78.27538371453448\n",
      "When time is : 799, get best_k: 27.313234938671588 best_b: -91.03135428151825, and the loss is: 58.228561911917446\n",
      "When time is : 849, get best_k: 24.20048209282174 best_b: -91.5242001313207, and the loss is: 38.364993818919224\n",
      "When time is : 899, get best_k: 21.14653770546999 best_b: -92.00506969653806, and the loss is: 19.258051613669608\n",
      "When time is : 949, get best_k: 18.75093592681386 best_b: -92.36838985464077, and the loss is: 7.0504949979422635\n",
      "When time is : 999, get best_k: 18.227288377406744 best_b: -92.41902226570798, and the loss is: 6.33479848449426\n",
      "When time is : 1049, get best_k: 18.19183644064787 best_b: -92.39281673211124, and the loss is: 6.328739163672358\n",
      "When time is : 1099, get best_k: 18.18723470151745 best_b: -92.36198669258565, and the loss is: 6.3267956415263615\n",
      "When time is : 1149, get best_k: 18.182550353691344 best_b: -92.33131475582682, and the loss is: 6.324869689749766\n",
      "When time is : 1199, get best_k: 18.178000946576695 best_b: -92.30068234475964, and the loss is: 6.322952148255601\n",
      "When time is : 1249, get best_k: 18.173323436695263 best_b: -92.27008945938424, and the loss is: 6.321036928867343\n",
      "When time is : 1299, get best_k: 18.168915333928457 best_b: -92.23945704831715, and the loss is: 6.319120217262347\n",
      "When time is : 1349, get best_k: 18.16450723116165 best_b: -92.20882463725006, and the loss is: 6.317205310599429\n",
      "When time is : 1399, get best_k: 18.159829721280218 best_b: -92.17823175187466, and the loss is: 6.315290547562004\n",
      "When time is : 1449, get best_k: 18.15542161851341 best_b: -92.14759934080757, and the loss is: 6.313373835957005\n",
      "When time is : 1499, get best_k: 18.151013515746605 best_b: -92.11696692974049, and the loss is: 6.3114584729432615\n",
      "When time is : 1549, get best_k: 18.1466054129798 best_b: -92.0863345186734, and the loss is: 6.3095440806371075\n",
      "When time is : 1599, get best_k: 18.141927903098367 best_b: -92.055741633298, and the loss is: 6.307627454651657\n",
      "When time is : 1649, get best_k: 18.13751980033156 best_b: -92.02510922223091, and the loss is: 6.305711635287089\n",
      "When time is : 1699, get best_k: 18.133111697564754 best_b: -91.99447681116382, and the loss is: 6.303797242980933\n",
      "When time is : 1749, get best_k: 18.12843418768332 best_b: -91.96388392578842, and the loss is: 6.301881531061883\n",
      "When time is : 1799, get best_k: 18.124559049343386 best_b: -91.93329104041297, and the loss is: 6.299979018995727\n",
      "When time is : 1849, get best_k: 18.120192448552864 best_b: -91.90293530918775, and the loss is: 6.298099323127007\n",
      "When time is : 1899, get best_k: 18.115577231161517 best_b: -91.87277720642093, and the loss is: 6.296239337883917\n",
      "When time is : 1949, get best_k: 18.11071841693221 best_b: -91.8426981550375, and the loss is: 6.2943804053216565\n",
      "When time is : 1999, get best_k: 18.106425254876825 best_b: -91.81254005227069, and the loss is: 6.292525277477956\n"
     ]
    }
   ],
   "source": [
    "try_times = 2000\n",
    "\n",
    "min_loss_gd = float('inf')\n",
    "\n",
    "k_best_gd = random.random()*200-100 \n",
    "b_best_gd = random.random()*200-100\n",
    "\n",
    "learning_rate = 1e-02\n",
    "\n",
    "update_time = 0\n",
    "\n",
    "for i in range(try_times):\n",
    "    \n",
    "    price_by_k_b_gd = [price(t, k_best_gd, b_best_gd) for t in x_rm]\n",
    "    \n",
    "    current_loss = loss(y, price_by_k_b_gd)\n",
    "    \n",
    "    if current_loss < min_loss_gd:\n",
    "        min_loss_gd = current_loss\n",
    "        update_time += 1\n",
    "        if update_time % 50 == 0:\n",
    "            print('When time is : {}, get best_k: {} best_b: {}, and the loss is: {}'.format(i, k_best_gd, b_best_gd, min_loss_gd))\n",
    "    \n",
    "    k_gradient = partial_k(x_rm, y, price_by_k_b_gd)\n",
    "    \n",
    "    b_gradient = partial_b(x_rm, y, price_by_k_b_gd)\n",
    "    \n",
    "    k_best_gd = k_best_gd + (-1 * k_gradient) * learning_rate\n",
    "    \n",
    "    b_best_gd = b_best_gd + (-1 * b_gradient) * learning_rate"
   ]
  },
  {
   "cell_type": "code",
   "execution_count": 684,
   "metadata": {},
   "outputs": [],
   "source": [
    "import matplotlib.pyplot as plt"
   ]
  },
  {
   "cell_type": "code",
   "execution_count": 558,
   "metadata": {},
   "outputs": [],
   "source": [
    "def draw_rm_and_price():\n",
    "    plt.scatter(x[:,5],y)"
   ]
  },
  {
   "cell_type": "code",
   "execution_count": 559,
   "metadata": {},
   "outputs": [],
   "source": [
    "%matplotlib inline"
   ]
  },
  {
   "cell_type": "code",
   "execution_count": 740,
   "metadata": {},
   "outputs": [
    {
     "name": "stdout",
     "output_type": "stream",
     "text": [
      "6.292492573122532\n"
     ]
    },
    {
     "data": {
      "text/plain": [
       "<matplotlib.collections.PathCollection at 0x1a26a607b8>"
      ]
     },
     "execution_count": 740,
     "metadata": {},
     "output_type": "execute_result"
    },
    {
     "data": {
      "image/png": "[encoded data removed]",
      "text/plain": [
       "<Figure size 432x288 with 1 Axes>"
      ]
     },
     "metadata": {
      "needs_background": "light"
     },
     "output_type": "display_data"
    }
   ],
   "source": [
    "k = 18.106\n",
    "b = -91.812\n",
    "\n",
    "y_test = [price(t,k,b) for t in x_rm]\n",
    "print(loss(y, y_test))\n",
    "\n",
    "draw_rm_and_price()\n",
    "plt.scatter(x_rm, y_test)"
   ]
  },
  {
   "cell_type": "markdown",
   "metadata": {},
   "source": [
    "通过多次尝试发现，相对于$loss = \\frac{1}{n}\\sum{(y_i - \\hat(y_i))^2}$，换成 $loss = \\frac{1}{n}\\sum{|y_i - \\hat{y_i}|}$后，结果并不理想。尝试分析原因：\n",
    "1. 相对于绝对值，平方可以将差异放大，在确定搜索方向时可以更准确\n",
    "2. 平方受初值影响更小，相对的，初值对于绝对值loss的搜索方向影响很大\n",
    "3. 两个loss方程在learning rate的选择上也不同"
   ]
  },
  {
   "cell_type": "markdown",
   "metadata": {},
   "source": [
    "### Part 4 Q&A"
   ]
  },
  {
   "cell_type": "markdown",
   "metadata": {},
   "source": [
    "Review\n",
    "1. **Why do we use Derivative / Gredient to fit a target function?** <br>\n",
    "Ans: <br>\n",
    "2. **In the words 'Gredient Descent', what's the Gredient and what's the Descent?**<br>\n",
    "Ans: <br>\n",
    "3. **What's the advantages of the 3rd gradient descent method compared to the previous methods?**<br>\n",
    "Ans: <br>\n",
    "4. **Using the simple words to describe: What's the machine leanring.**<br>\n",
    "Ans: <br>"
   ]
  },
  {
   "cell_type": "markdown",
   "metadata": {},
   "source": [
    "New\n",
    "1. **Why do we need dynamic programming? What's the difference of dynamic programming and previous talked search methods?**<br>\n",
    "Ans: <br>\n",
    "Because it can use the past knowledge to make solving a future problem easier. With Dynamic Programming, the results can be stored in some sort of tables, and when you want to answer a question, you can refer to the table if the answer is already known or part of it is known, which help sving a lot of time. And those previous approaches will treat it as a new problem even if the answer has already got before.\n",
    "2. **Why do we still need dynamic programming? Why not we train a machine learning to fit a function which could get the right answer based on inputs?**<br>\n",
    "Ans: <br>\n",
    "(1) Dynamic Programming can be applied in the reinforcement learning of Machine Learning. It's suitable for applications where decision processes are critical in a highly uncertain environment.<br>\n",
    "(2) Under some situations, it's extremely hard to exstract a function from the question, which has too many unknown elements. However, DP could be better applied under this circumstance.\n",
    "3. **Can you catch up at least 3 problems which could solved by Dynamic Programming?**<br>\n",
    "Ans: <br>\n",
    "(1) Google maps, find the shortest path<br>\n",
    "(2) Search engines<br>\n",
    "(3) Reservoir water resources allocation<br>\n",
    "4. **Can you catch up at least 3 problems wich could sloved by Edit Distance?**\n",
    "Ans: <br>\n",
    "(1)Paper  copy detection<br>(2) automatic spelling correction<br> (3) RNA folding<br>\n",
    "5. **Please summarize the three main features of Dynamic Programming, and make a concise explain for each feature.**<br>\n",
    "Ans: <br>\n",
    "(1) Problem can be divided into  stages with a decision required at each stage.\n",
    "<br>(2) Each stage has a number of states associated with it.<br> (3) The decision chosen at any stage describes how the state at current stage is transformed into the state at the next stage(possibly according to a probability distribution)<br>(4) Given the current state, the optimal decision for the remaining stages is independent of the policy decisions adopted in previous stages.<br> (5) If the states for the problem are classified into N stages, there must be a recursion that relates the cost/reward during stages n, n+1,...,N to the cost/reward during stages n+1, n+2,...N.\n",
    "6. **What's the disadvantages of Dynamic Programming? (You may need search by yourself in Internet)**<br>\n",
    "Ans: <br>\n",
    "(1) Multiple function calls are expensive<br>\n",
    "(2) Inefficient when there is a lot of braches from one state.<br>\n",
    "(3) Requires large amount of space as the each function state needs to be stored on system stack.<br>"
   ]
  },
  {
   "cell_type": "code",
   "execution_count": null,
   "metadata": {},
   "outputs": [],
   "source": []
  }
 ],
 "metadata": {
  "kernelspec": {
   "display_name": "Python 3",
   "language": "python",
   "name": "python3"
  },
  "language_info": {
   "codemirror_mode": {
    "name": "ipython",
    "version": 3
   },
   "file_extension": ".py",
   "mimetype": "text/x-python",
   "name": "python",
   "nbconvert_exporter": "python",
   "pygments_lexer": "ipython3",
   "version": "3.7.3"
  }
 },
 "nbformat": 4,
 "nbformat_minor": 2
}
